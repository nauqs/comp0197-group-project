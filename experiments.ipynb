{
 "cells": [
  {
   "cell_type": "code",
   "execution_count": 1,
   "id": "ca1e8440-90a2-4bd2-9dd2-fcb4ed2ebe52",
   "metadata": {},
   "outputs": [],
   "source": [
    "import numpy as np\n",
    "import torch\n",
    "import torchvision\n",
    "from torch.utils.data import Dataset\n",
    "from torchvision.datasets import OxfordIIITPet"
   ]
  },
  {
   "cell_type": "code",
   "execution_count": 2,
   "id": "485653e2-16fa-4c6f-994f-76d36c6fdd84",
   "metadata": {},
   "outputs": [],
   "source": [
    "def load_dataset(split=\"trainval\", root=\"/tmp/adl_data\") -> Dataset:\n",
    "    \"\"\"\n",
    "    returns a Dataset with:\n",
    "    - images as normalized float32 tensors\n",
    "    - labels as uint 8 tensors\n",
    "\n",
    "    the labels are:\n",
    "    - 1: foreground\n",
    "    - 2: background\n",
    "    - 3: not classified\n",
    "    \"\"\"\n",
    "    image_transform = torchvision.transforms.Compose(\n",
    "        [\n",
    "            torchvision.transforms.ToTensor(),\n",
    "            torchvision.transforms.Normalize((0.5, 0.5, 0.5), (0.5, 0.5, 0.5)),\n",
    "        ]\n",
    "    )\n",
    "    label_transform = lambda label: torch.from_numpy(np.array(label))\n",
    "    ds = OxfordIIITPet(\n",
    "        root=root,\n",
    "        split=split,\n",
    "        target_types=\"segmentation\",\n",
    "        download=True,\n",
    "        transform=image_transform,\n",
    "        target_transform=label_transform,\n",
    "    )\n",
    "    return ds"
   ]
  },
  {
   "cell_type": "code",
   "execution_count": 3,
   "id": "5d03dd00-2490-4cfe-a808-a741c51f02ae",
   "metadata": {},
   "outputs": [],
   "source": [
    "def create_datasets(data_dir, valid_frac, labelled_frac):\n",
    "    trainval_ds = load_dataset('trainval')\n",
    "    test_ds = load_dataset('test')\n",
    "\n",
    "    rng = torch.Generator()\n",
    "    rng.manual_seed(0)\n",
    "    train_all_ds, valid_ds = torch.utils.data.random_split(trainval_ds, (1-valid_frac, valid_frac), generator=rng)\n",
    "    _, train_lab_ds = torch.utils.data.random_split(train_ds, (1-labelled_frac, labelled_frac), generator=rng)\n",
    "    \n",
    "    return train_all_ds, train_lab_ds, valid_ds"
   ]
  },
  {
   "cell_type": "code",
   "execution_count": 4,
   "id": "8bbc059b-a8e3-496e-9444-d1554d6de561",
   "metadata": {},
   "outputs": [
    {
     "ename": "TypeError",
     "evalue": "create_datasets() missing 3 required positional arguments: 'data_dir', 'valid_frac', and 'labelled_frac'",
     "output_type": "error",
     "traceback": [
      "\u001b[1;31m---------------------------------------------------------------------------\u001b[0m",
      "\u001b[1;31mTypeError\u001b[0m                                 Traceback (most recent call last)",
      "\u001b[1;32m~\\AppData\\Local\\Temp\\ipykernel_17016\\2413971487.py\u001b[0m in \u001b[0;36m<module>\u001b[1;34m\u001b[0m\n\u001b[1;32m----> 1\u001b[1;33m \u001b[0mtrain_all_ds\u001b[0m\u001b[1;33m,\u001b[0m \u001b[0mtrain_lab_ds\u001b[0m\u001b[1;33m,\u001b[0m \u001b[0mvalid_ds\u001b[0m \u001b[1;33m=\u001b[0m \u001b[0mcreate_datasets\u001b[0m\u001b[1;33m(\u001b[0m\u001b[1;33m)\u001b[0m\u001b[1;33m\u001b[0m\u001b[1;33m\u001b[0m\u001b[0m\n\u001b[0m",
      "\u001b[1;31mTypeError\u001b[0m: create_datasets() missing 3 required positional arguments: 'data_dir', 'valid_frac', and 'labelled_frac'"
     ]
    }
   ],
   "source": [
    "train_all_ds, train_lab_ds, valid_ds = create_datasets()"
   ]
  },
  {
   "cell_type": "code",
   "execution_count": 5,
   "id": "66a1db6a-27d4-4236-bb05-603609c190ef",
   "metadata": {},
   "outputs": [],
   "source": [
    "data_dir = 'data'\n",
    "valid_frac = 0.2\n",
    "labelled_frac = 0.125"
   ]
  },
  {
   "cell_type": "code",
   "execution_count": 6,
   "id": "8b9862a9-ad21-42d7-ba2d-cea88ff2866d",
   "metadata": {},
   "outputs": [
    {
     "ename": "NameError",
     "evalue": "name 'test_ds' is not defined",
     "output_type": "error",
     "traceback": [
      "\u001b[1;31m---------------------------------------------------------------------------\u001b[0m",
      "\u001b[1;31mNameError\u001b[0m                                 Traceback (most recent call last)",
      "\u001b[1;32m~\\AppData\\Local\\Temp\\ipykernel_17016\\442357724.py\u001b[0m in \u001b[0;36m<module>\u001b[1;34m\u001b[0m\n\u001b[1;32m----> 1\u001b[1;33m \u001b[0mlen\u001b[0m\u001b[1;33m(\u001b[0m\u001b[0mtest_ds\u001b[0m\u001b[1;33m)\u001b[0m\u001b[1;33m,\u001b[0m \u001b[0mlen\u001b[0m\u001b[1;33m(\u001b[0m\u001b[0mvalid_ds\u001b[0m\u001b[1;33m)\u001b[0m\u001b[1;33m,\u001b[0m \u001b[0mlen\u001b[0m\u001b[1;33m(\u001b[0m\u001b[0munlab_train_ds\u001b[0m\u001b[1;33m)\u001b[0m\u001b[1;33m,\u001b[0m \u001b[0mlen\u001b[0m\u001b[1;33m(\u001b[0m\u001b[0mlab_train_ds\u001b[0m\u001b[1;33m)\u001b[0m\u001b[1;33m\u001b[0m\u001b[1;33m\u001b[0m\u001b[0m\n\u001b[0m",
      "\u001b[1;31mNameError\u001b[0m: name 'test_ds' is not defined"
     ]
    }
   ],
   "source": [
    "len(test_ds), len(valid_ds), len(unlab_train_ds), len(lab_train_ds)"
   ]
  }
 ],
 "metadata": {
  "kernelspec": {
   "display_name": "base",
   "language": "python",
   "name": "python3"
  },
  "language_info": {
   "codemirror_mode": {
    "name": "ipython",
    "version": 3
   },
   "file_extension": ".py",
   "mimetype": "text/x-python",
   "name": "python",
   "nbconvert_exporter": "python",
   "pygments_lexer": "ipython3",
   "version": "3.9.16"
  }
 },
 "nbformat": 4,
 "nbformat_minor": 5
}
